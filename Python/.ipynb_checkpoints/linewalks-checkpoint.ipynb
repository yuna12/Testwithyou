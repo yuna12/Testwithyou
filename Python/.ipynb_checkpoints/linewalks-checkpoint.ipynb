{
 "cells": [
  {
   "cell_type": "code",
   "execution_count": 6,
   "id": "20173613",
   "metadata": {},
   "outputs": [],
   "source": [
    "import psycopg2"
   ]
  },
  {
   "cell_type": "code",
   "execution_count": 2,
   "id": "fa6a55fd",
   "metadata": {},
   "outputs": [],
   "source": [
    "db = psycopg2.connect(host='49.50.167.136', dbname='synthea_1000',user='walker102',password='forcebewithyou',port=5432)"
   ]
  },
  {
   "cell_type": "code",
   "execution_count": 3,
   "id": "814483c0",
   "metadata": {},
   "outputs": [],
   "source": [
    "cursor  = db.cursor()\n",
    "cursor.execute(\"select * from clinical_note\")\n",
    "rows = cursor.fetchall()"
   ]
  },
  {
   "cell_type": "code",
   "execution_count": 5,
   "id": "5006e9f2",
   "metadata": {
    "scrolled": true
   },
   "outputs": [
    {
     "data": {
      "text/plain": [
       "('Andrea7 Wolf938\\n===============\\nRace:                White\\nEthnicity:           Non-Hispanic\\nGender:              M\\nAge:                 55\\nBirth Date:          1965-04-22\\nMarital Status:      M\\n--------------------------------------------------------------------------------\\nALLERGIES:\\nNo Known Allergies\\n--------------------------------------------------------------------------------\\nENCOUNTER\\n2011-06-20 : Encounter at Cape Cod Vet Center : Encounter for Acute bronchitis (disorder)\\nType: ambulatory\\n   \\n   MEDICATIONS:\\n  2011-06-20 : Acetaminophen 325 MG Oral Tablet for Acute bronchitis (disorder)\\n   \\n   CONDITIONS:\\n  2011-06-20 : Acute bronchitis (disorder)\\n   \\n   CARE PLANS:\\n  2011-06-20 : Respiratory therapy\\n                         Reason: Acute bronchitis (disorder)\\n                         Activity: Recommendation to avoid exercise\\n                         Activity: Deep breathing and coughing exercises\\n   \\n   REPORTS:\\n   \\n   OBSERVATIONS:\\n   \\n   PROCEDURES:\\n  2011-06-20 : Sputum examination (procedure) for Acute bronchitis (disorder)\\n   \\n   IMMUNIZATIONS:\\n   \\n   IMAGING STUDIES:\\n   \\n--------------------------------------------------------------------------------\\nCONTINUING\\n   \\n   CONDITIONS:\\n  1977-04-10 : Chronic sinusitis (disorder)\\n  1984-06-07 : Major depression disorder\\n  1996-07-04 : Body mass index 30+ - obesity (finding)\\n   \\n   MEDICATIONS:\\n  1984-06-07 + FLUoxetine 20 MG Oral Capsule for Major depression, single episode\\n   \\n   CAREPLANS:\\n  1984-06-07 : Mental health care plan\\n                         Reason: Major depression, single episode\\n                         Activity: Initial psychiatric interview with mental status and evaluation\\n  1984-06-07 : Psychiatry care plan\\n                         Reason: Major depression disorder\\n                         Activity: Psychiatric Follow-up\\n                         Activity: Coping Support Management\\n                         Activity: Suicide Risk Assessment\\n                         Activity: Cognitive behavioral therapy by multidisciplinary team\\n                         Activity: Psychodynamic Interpersonal Therapy\\n   \\n--------------------------------------------------------------------------------\\n',)"
      ]
     },
     "execution_count": 5,
     "metadata": {},
     "output_type": "execute_result"
    }
   ],
   "source": [
    "rows[0]"
   ]
  },
  {
   "cell_type": "code",
   "execution_count": 54,
   "id": "d87030d8",
   "metadata": {},
   "outputs": [],
   "source": [
    "from nltk import sent_tokenize\n",
    "from nltk.tokenize import LineTokenizer\n",
    "import nltk"
   ]
  },
  {
   "cell_type": "code",
   "execution_count": 16,
   "id": "83954f62",
   "metadata": {},
   "outputs": [
    {
     "name": "stderr",
     "output_type": "stream",
     "text": [
      "[nltk_data] Downloading package punkt to\n",
      "[nltk_data]     C:\\Users\\DJ\\AppData\\Roaming\\nltk_data...\n",
      "[nltk_data]   Package punkt is already up-to-date!\n"
     ]
    },
    {
     "data": {
      "text/plain": [
       "True"
      ]
     },
     "execution_count": 16,
     "metadata": {},
     "output_type": "execute_result"
    }
   ],
   "source": [
    "nltk.download('punkt')"
   ]
  },
  {
   "cell_type": "code",
   "execution_count": 17,
   "id": "e5f02c37",
   "metadata": {},
   "outputs": [],
   "source": [
    "text_sample = 'The Matrix is everywhere its all around us, here even in this room. \\\n",
    "               You can see it out your window or on your television. \\\n",
    "               You feel it when you go to\\ work, or go to church or pay your taxes.'\n",
    "sentences = sent_tokenize(text=text_sample)"
   ]
  },
  {
   "cell_type": "code",
   "execution_count": 35,
   "id": "c5dbe737",
   "metadata": {},
   "outputs": [],
   "source": [
    "sample = 'Andrea7 Wolf938\\n===============\\nRace:                White\\nEthnicity:           Non-Hispanic\\nGender:              M\\nAge:                 55\\nBirth Date:          1965-04-22\\nMarital Status:      M\\n--------------------------------------------------------------------------------\\nALLERGIES:\\nNo Known Allergies\\n--------------------------------------------------------------------------------\\nENCOUNTER\\n2011-06-20 : Encounter at Cape Cod Vet Center : Encounter for Acute bronchitis (disorder)\\nType: ambulatory\\n   \\n   MEDICATIONS:\\n  2011-06-20 : Acetaminophen 325 MG Oral Tablet for Acute bronchitis (disorder)\\n   \\n   CONDITIONS:\\n  2011-06-20 : Acute bronchitis (disorder)\\n   \\n   CARE PLANS:\\n  2011-06-20 : Respiratory therapy\\n                         Reason: Acute bronchitis (disorder)\\n                         Activity: Recommendation to avoid exercise\\n                         Activity: Deep breathing and coughing exercises\\n   \\n   REPORTS:\\n   \\n   OBSERVATIONS:\\n   \\n   PROCEDURES:\\n  2011-06-20 : Sputum examination (procedure) for Acute bronchitis (disorder)\\n   \\n   IMMUNIZATIONS:\\n   \\n   IMAGING STUDIES:\\n   \\n--------------------------------------------------------------------------------\\nCONTINUING\\n   \\n   CONDITIONS:\\n  1977-04-10 : Chronic sinusitis (disorder)\\n  1984-06-07 : Major depression disorder\\n  1996-07-04 : Body mass index 30+ - obesity (finding)\\n   \\n   MEDICATIONS:\\n  1984-06-07 + FLUoxetine 20 MG Oral Capsule for Major depression, single episode\\n   \\n   CAREPLANS:\\n  1984-06-07 : Mental health care plan\\n                         Reason: Major depression, single episode\\n                         Activity: Initial psychiatric interview with mental status and evaluation\\n  1984-06-07 : Psychiatry care plan\\n                         Reason: Major depression disorder\\n                         Activity: Psychiatric Follow-up\\n                         Activity: Coping Support Management\\n                         Activity: Suicide Risk Assessment\\n                         Activity: Cognitive behavioral therapy by multidisciplinary team\\n                         Activity: Psychodynamic Interpersonal Therapy\\n   \\n--------------------------------------------------------------------------------\\n'"
   ]
  },
  {
   "cell_type": "code",
   "execution_count": 52,
   "id": "f7a5d129",
   "metadata": {},
   "outputs": [],
   "source": [
    "sentences1= sent_tokenize(text=sample)"
   ]
  },
  {
   "cell_type": "code",
   "execution_count": 57,
   "id": "29354da6",
   "metadata": {
    "scrolled": false
   },
   "outputs": [
    {
     "data": {
      "text/plain": [
       "['Andrea7 Wolf938',\n",
       " '===============',\n",
       " 'Race:                White',\n",
       " 'Ethnicity:           Non-Hispanic',\n",
       " 'Gender:              M',\n",
       " 'Age:                 55',\n",
       " 'Birth Date:          1965-04-22',\n",
       " 'Marital Status:      M',\n",
       " '--------------------------------------------------------------------------------',\n",
       " 'ALLERGIES:',\n",
       " 'No Known Allergies',\n",
       " '--------------------------------------------------------------------------------',\n",
       " 'ENCOUNTER',\n",
       " '2011-06-20 : Encounter at Cape Cod Vet Center : Encounter for Acute bronchitis (disorder)',\n",
       " 'Type: ambulatory',\n",
       " '   MEDICATIONS:',\n",
       " '  2011-06-20 : Acetaminophen 325 MG Oral Tablet for Acute bronchitis (disorder)',\n",
       " '   CONDITIONS:',\n",
       " '  2011-06-20 : Acute bronchitis (disorder)',\n",
       " '   CARE PLANS:',\n",
       " '  2011-06-20 : Respiratory therapy',\n",
       " '                         Reason: Acute bronchitis (disorder)',\n",
       " '                         Activity: Recommendation to avoid exercise',\n",
       " '                         Activity: Deep breathing and coughing exercises',\n",
       " '   REPORTS:',\n",
       " '   OBSERVATIONS:',\n",
       " '   PROCEDURES:',\n",
       " '  2011-06-20 : Sputum examination (procedure) for Acute bronchitis (disorder)',\n",
       " '   IMMUNIZATIONS:',\n",
       " '   IMAGING STUDIES:',\n",
       " '--------------------------------------------------------------------------------',\n",
       " 'CONTINUING',\n",
       " '   CONDITIONS:',\n",
       " '  1977-04-10 : Chronic sinusitis (disorder)',\n",
       " '  1984-06-07 : Major depression disorder',\n",
       " '  1996-07-04 : Body mass index 30+ - obesity (finding)',\n",
       " '   MEDICATIONS:',\n",
       " '  1984-06-07 + FLUoxetine 20 MG Oral Capsule for Major depression, single episode',\n",
       " '   CAREPLANS:',\n",
       " '  1984-06-07 : Mental health care plan',\n",
       " '                         Reason: Major depression, single episode',\n",
       " '                         Activity: Initial psychiatric interview with mental status and evaluation',\n",
       " '  1984-06-07 : Psychiatry care plan',\n",
       " '                         Reason: Major depression disorder',\n",
       " '                         Activity: Psychiatric Follow-up',\n",
       " '                         Activity: Coping Support Management',\n",
       " '                         Activity: Suicide Risk Assessment',\n",
       " '                         Activity: Cognitive behavioral therapy by multidisciplinary team',\n",
       " '                         Activity: Psychodynamic Interpersonal Therapy',\n",
       " '--------------------------------------------------------------------------------']"
      ]
     },
     "execution_count": 57,
     "metadata": {},
     "output_type": "execute_result"
    }
   ],
   "source": [
    "line = LineTokenizer()\n",
    "line.tokenize(sample)"
   ]
  },
  {
   "cell_type": "code",
   "execution_count": 66,
   "id": "f0040324",
   "metadata": {},
   "outputs": [
    {
     "ename": "InFailedSqlTransaction",
     "evalue": "current transaction is aborted, commands ignored until end of transaction block\n",
     "output_type": "error",
     "traceback": [
      "\u001b[1;31m---------------------------------------------------------------------------\u001b[0m",
      "\u001b[1;31mInFailedSqlTransaction\u001b[0m                    Traceback (most recent call last)",
      "\u001b[1;32m~\\AppData\\Local\\Temp/ipykernel_7564/1847379349.py\u001b[0m in \u001b[0;36m<module>\u001b[1;34m\u001b[0m\n\u001b[0;32m      5\u001b[0m \u001b[1;31m# Execute the drop table command\u001b[0m\u001b[1;33m\u001b[0m\u001b[1;33m\u001b[0m\u001b[1;33m\u001b[0m\u001b[0m\n\u001b[0;32m      6\u001b[0m \u001b[1;33m\u001b[0m\u001b[0m\n\u001b[1;32m----> 7\u001b[1;33m \u001b[0mcursor\u001b[0m\u001b[1;33m.\u001b[0m\u001b[0mexecute\u001b[0m\u001b[1;33m(\u001b[0m\u001b[0mdropTableStmt\u001b[0m\u001b[1;33m)\u001b[0m\u001b[1;33m;\u001b[0m\u001b[1;33m\u001b[0m\u001b[1;33m\u001b[0m\u001b[0m\n\u001b[0m",
      "\u001b[1;31mInFailedSqlTransaction\u001b[0m: current transaction is aborted, commands ignored until end of transaction block\n"
     ]
    }
   ],
   "source": [
    "dropTableStmt   = \"DROP TABLE %s;\"%\"test_table\";\n",
    "\n",
    " \n",
    "\n",
    "# Execute the drop table command\n",
    "\n",
    "cursor.execute(dropTableStmt);"
   ]
  },
  {
   "cell_type": "code",
   "execution_count": null,
   "id": "939767c6",
   "metadata": {},
   "outputs": [],
   "source": []
  },
  {
   "cell_type": "code",
   "execution_count": 64,
   "id": "c27674c6",
   "metadata": {},
   "outputs": [
    {
     "ename": "InFailedSqlTransaction",
     "evalue": "current transaction is aborted, commands ignored until end of transaction block\n",
     "output_type": "error",
     "traceback": [
      "\u001b[1;31m---------------------------------------------------------------------------\u001b[0m",
      "\u001b[1;31mInFailedSqlTransaction\u001b[0m                    Traceback (most recent call last)",
      "\u001b[1;32m~\\AppData\\Local\\Temp/ipykernel_7564/2040382095.py\u001b[0m in \u001b[0;36m<module>\u001b[1;34m\u001b[0m\n\u001b[1;32m----> 1\u001b[1;33m \u001b[0mcursor\u001b[0m\u001b[1;33m.\u001b[0m\u001b[0mexecute\u001b[0m\u001b[1;33m(\u001b[0m\u001b[1;34m\"CREATE TABLE test_table (title varchar, content text);\"\u001b[0m\u001b[1;33m)\u001b[0m\u001b[1;33m\u001b[0m\u001b[1;33m\u001b[0m\u001b[0m\n\u001b[0m",
      "\u001b[1;31mInFailedSqlTransaction\u001b[0m: current transaction is aborted, commands ignored until end of transaction block\n"
     ]
    }
   ],
   "source": [
    "cursor.execute(\"CREATE TABLE test_table (title varchar, content text);\") "
   ]
  },
  {
   "cell_type": "code",
   "execution_count": 60,
   "id": "4fc340b7",
   "metadata": {},
   "outputs": [],
   "source": [
    "cursor.execute(\"select * from test_table\")"
   ]
  },
  {
   "cell_type": "code",
   "execution_count": 61,
   "id": "e324d9f7",
   "metadata": {},
   "outputs": [],
   "source": [
    "test = cursor.fetchall()"
   ]
  },
  {
   "cell_type": "code",
   "execution_count": 62,
   "id": "1493a7d2",
   "metadata": {},
   "outputs": [
    {
     "data": {
      "text/plain": [
       "[]"
      ]
     },
     "execution_count": 62,
     "metadata": {},
     "output_type": "execute_result"
    }
   ],
   "source": [
    "test"
   ]
  }
 ],
 "metadata": {
  "kernelspec": {
   "display_name": "Python 3 (ipykernel)",
   "language": "python",
   "name": "python3"
  },
  "language_info": {
   "codemirror_mode": {
    "name": "ipython",
    "version": 3
   },
   "file_extension": ".py",
   "mimetype": "text/x-python",
   "name": "python",
   "nbconvert_exporter": "python",
   "pygments_lexer": "ipython3",
   "version": "3.7.11"
  }
 },
 "nbformat": 4,
 "nbformat_minor": 5
}
