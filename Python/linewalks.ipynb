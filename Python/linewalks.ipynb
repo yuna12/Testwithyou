{
 "cells": [
  {
   "cell_type": "code",
   "execution_count": 492,
   "id": "20173613",
   "metadata": {},
   "outputs": [],
   "source": [
    "import psycopg2\n",
    "import pandas as pd\n",
    "import numpy as np\n",
    "\n",
    "from nltk.tokenize import LineTokenizer"
   ]
  },
  {
   "cell_type": "code",
   "execution_count": 493,
   "id": "fa6a55fd",
   "metadata": {},
   "outputs": [],
   "source": [
    "db = psycopg2.connect(host='49.50.167.136', dbname='synthea_1000',user='walker102',password='forcebewithyou',port=5432)\n",
    "cursor  = db.cursor()\n",
    "cursor.execute(\"select * from clinical_note\")\n",
    "rows = cursor.fetchall()"
   ]
  },
  {
   "cell_type": "code",
   "execution_count": 164,
   "id": "20cb65d7",
   "metadata": {},
   "outputs": [],
   "source": [
    "from nltk import sent_tokenize,word_tokenize\n",
    "\n",
    "import nltk"
   ]
  },
  {
   "cell_type": "code",
   "execution_count": 494,
   "id": "3bb23d9b",
   "metadata": {},
   "outputs": [],
   "source": [
    "def id(size):\n",
    "    alist = []\n",
    "    for i in range(size):                \n",
    "        a = np.random.randint(100000)\n",
    "        while a in alist:\n",
    "            a = np.random.randint(100000)\n",
    "        alist.append(a)\n",
    "    return alist\n",
    "## id 랜덤 추출 함수"
   ]
  },
  {
   "cell_type": "code",
   "execution_count": 495,
   "id": "6f212ce4",
   "metadata": {
    "scrolled": true
   },
   "outputs": [],
   "source": [
    "sentence = []\n",
    "line = LineTokenizer()\n",
    "\n",
    "for i in rows:\n",
    "    sentence.append(line.tokenize(i[0]))\n",
    "\n",
    "id_lists = id(len(sentence))"
   ]
  },
  {
   "cell_type": "code",
   "execution_count": 496,
   "id": "e806261c",
   "metadata": {},
   "outputs": [],
   "source": [
    "sentence_df = pd.DataFrame(sentence)"
   ]
  },
  {
   "cell_type": "code",
   "execution_count": 583,
   "id": "297e3bbd",
   "metadata": {},
   "outputs": [
    {
     "ename": "AttributeError",
     "evalue": "'Series' object has no attribute 'to_datetime'",
     "output_type": "error",
     "traceback": [
      "\u001b[1;31m---------------------------------------------------------------------------\u001b[0m",
      "\u001b[1;31mAttributeError\u001b[0m                            Traceback (most recent call last)",
      "\u001b[1;32m~\\AppData\\Local\\Temp/ipykernel_5052/3193404267.py\u001b[0m in \u001b[0;36m<module>\u001b[1;34m\u001b[0m\n\u001b[0;32m      7\u001b[0m \u001b[0mperson_df\u001b[0m\u001b[1;33m=\u001b[0m\u001b[0mpd\u001b[0m\u001b[1;33m.\u001b[0m\u001b[0mDataFrame\u001b[0m\u001b[1;33m(\u001b[0m\u001b[0mpersonlist\u001b[0m\u001b[1;33m)\u001b[0m\u001b[1;33m\u001b[0m\u001b[1;33m\u001b[0m\u001b[0m\n\u001b[0;32m      8\u001b[0m \u001b[0mperson_df\u001b[0m\u001b[1;33m[\u001b[0m\u001b[1;34m'id'\u001b[0m\u001b[1;33m]\u001b[0m \u001b[1;33m=\u001b[0m \u001b[0mid_lists\u001b[0m\u001b[1;33m\u001b[0m\u001b[1;33m\u001b[0m\u001b[0m\n\u001b[1;32m----> 9\u001b[1;33m \u001b[0mperson_df\u001b[0m\u001b[1;33m[\u001b[0m\u001b[1;34m'Birth Date'\u001b[0m\u001b[1;33m]\u001b[0m\u001b[1;33m.\u001b[0m\u001b[0mto_datetime\u001b[0m\u001b[1;33m(\u001b[0m\u001b[1;33m)\u001b[0m\u001b[1;33m\u001b[0m\u001b[1;33m\u001b[0m\u001b[0m\n\u001b[0m\u001b[0;32m     10\u001b[0m \u001b[0mperson_df\u001b[0m\u001b[1;33m.\u001b[0m\u001b[0mreset_index\u001b[0m\u001b[1;33m(\u001b[0m\u001b[0minplace\u001b[0m\u001b[1;33m=\u001b[0m\u001b[1;32mTrue\u001b[0m\u001b[1;33m)\u001b[0m\u001b[1;33m\u001b[0m\u001b[1;33m\u001b[0m\u001b[0m\n",
      "\u001b[1;32m~\\Anaconda3\\lib\\site-packages\\pandas\\core\\generic.py\u001b[0m in \u001b[0;36m__getattr__\u001b[1;34m(self, name)\u001b[0m\n\u001b[0;32m   5485\u001b[0m         ):\n\u001b[0;32m   5486\u001b[0m             \u001b[1;32mreturn\u001b[0m \u001b[0mself\u001b[0m\u001b[1;33m[\u001b[0m\u001b[0mname\u001b[0m\u001b[1;33m]\u001b[0m\u001b[1;33m\u001b[0m\u001b[1;33m\u001b[0m\u001b[0m\n\u001b[1;32m-> 5487\u001b[1;33m         \u001b[1;32mreturn\u001b[0m \u001b[0mobject\u001b[0m\u001b[1;33m.\u001b[0m\u001b[0m__getattribute__\u001b[0m\u001b[1;33m(\u001b[0m\u001b[0mself\u001b[0m\u001b[1;33m,\u001b[0m \u001b[0mname\u001b[0m\u001b[1;33m)\u001b[0m\u001b[1;33m\u001b[0m\u001b[1;33m\u001b[0m\u001b[0m\n\u001b[0m\u001b[0;32m   5488\u001b[0m \u001b[1;33m\u001b[0m\u001b[0m\n\u001b[0;32m   5489\u001b[0m     \u001b[1;32mdef\u001b[0m \u001b[0m__setattr__\u001b[0m\u001b[1;33m(\u001b[0m\u001b[0mself\u001b[0m\u001b[1;33m,\u001b[0m \u001b[0mname\u001b[0m\u001b[1;33m:\u001b[0m \u001b[0mstr\u001b[0m\u001b[1;33m,\u001b[0m \u001b[0mvalue\u001b[0m\u001b[1;33m)\u001b[0m \u001b[1;33m->\u001b[0m \u001b[1;32mNone\u001b[0m\u001b[1;33m:\u001b[0m\u001b[1;33m\u001b[0m\u001b[1;33m\u001b[0m\u001b[0m\n",
      "\u001b[1;31mAttributeError\u001b[0m: 'Series' object has no attribute 'to_datetime'"
     ]
    }
   ],
   "source": [
    "person_df=sentence_df.iloc[:,2:8].apply(lambda x : x.str.split(\":\"))\n",
    "person_df.columns = person_df.iloc[0,:].apply(lambda x : x[0])\n",
    "\n",
    "personlist = []\n",
    "for i in range(len(person_df)):\n",
    "        personlist.append(person_df.iloc[0,:].apply(lambda x : x[1]))\n",
    "person_df=pd.DataFrame(personlist)\n",
    "person_df['id'] = id_lists\n",
    "\n",
    "person_df.reset_index(inplace=True)"
   ]
  },
  {
   "cell_type": "code",
   "execution_count": 584,
   "id": "c40f2c38",
   "metadata": {},
   "outputs": [
    {
     "data": {
      "text/html": [
       "<div>\n",
       "<style scoped>\n",
       "    .dataframe tbody tr th:only-of-type {\n",
       "        vertical-align: middle;\n",
       "    }\n",
       "\n",
       "    .dataframe tbody tr th {\n",
       "        vertical-align: top;\n",
       "    }\n",
       "\n",
       "    .dataframe thead th {\n",
       "        text-align: right;\n",
       "    }\n",
       "</style>\n",
       "<table border=\"1\" class=\"dataframe\">\n",
       "  <thead>\n",
       "    <tr style=\"text-align: right;\">\n",
       "      <th></th>\n",
       "      <th>Race</th>\n",
       "      <th>Ethnicity</th>\n",
       "      <th>Gender</th>\n",
       "      <th>Age</th>\n",
       "      <th>Birth Date</th>\n",
       "      <th>Marital Status</th>\n",
       "      <th>id</th>\n",
       "    </tr>\n",
       "  </thead>\n",
       "  <tbody>\n",
       "    <tr>\n",
       "      <th>0</th>\n",
       "      <td>White</td>\n",
       "      <td>Non-Hispanic</td>\n",
       "      <td>M</td>\n",
       "      <td>55</td>\n",
       "      <td>1965-04-22</td>\n",
       "      <td>M</td>\n",
       "      <td>16808</td>\n",
       "    </tr>\n",
       "    <tr>\n",
       "      <th>0</th>\n",
       "      <td>White</td>\n",
       "      <td>Non-Hispanic</td>\n",
       "      <td>M</td>\n",
       "      <td>55</td>\n",
       "      <td>1965-04-22</td>\n",
       "      <td>M</td>\n",
       "      <td>20351</td>\n",
       "    </tr>\n",
       "    <tr>\n",
       "      <th>0</th>\n",
       "      <td>White</td>\n",
       "      <td>Non-Hispanic</td>\n",
       "      <td>M</td>\n",
       "      <td>55</td>\n",
       "      <td>1965-04-22</td>\n",
       "      <td>M</td>\n",
       "      <td>66538</td>\n",
       "    </tr>\n",
       "    <tr>\n",
       "      <th>0</th>\n",
       "      <td>White</td>\n",
       "      <td>Non-Hispanic</td>\n",
       "      <td>M</td>\n",
       "      <td>55</td>\n",
       "      <td>1965-04-22</td>\n",
       "      <td>M</td>\n",
       "      <td>26792</td>\n",
       "    </tr>\n",
       "    <tr>\n",
       "      <th>0</th>\n",
       "      <td>White</td>\n",
       "      <td>Non-Hispanic</td>\n",
       "      <td>M</td>\n",
       "      <td>55</td>\n",
       "      <td>1965-04-22</td>\n",
       "      <td>M</td>\n",
       "      <td>83536</td>\n",
       "    </tr>\n",
       "    <tr>\n",
       "      <th>0</th>\n",
       "      <td>White</td>\n",
       "      <td>Non-Hispanic</td>\n",
       "      <td>M</td>\n",
       "      <td>55</td>\n",
       "      <td>1965-04-22</td>\n",
       "      <td>M</td>\n",
       "      <td>43864</td>\n",
       "    </tr>\n",
       "    <tr>\n",
       "      <th>0</th>\n",
       "      <td>White</td>\n",
       "      <td>Non-Hispanic</td>\n",
       "      <td>M</td>\n",
       "      <td>55</td>\n",
       "      <td>1965-04-22</td>\n",
       "      <td>M</td>\n",
       "      <td>55683</td>\n",
       "    </tr>\n",
       "    <tr>\n",
       "      <th>0</th>\n",
       "      <td>White</td>\n",
       "      <td>Non-Hispanic</td>\n",
       "      <td>M</td>\n",
       "      <td>55</td>\n",
       "      <td>1965-04-22</td>\n",
       "      <td>M</td>\n",
       "      <td>63030</td>\n",
       "    </tr>\n",
       "    <tr>\n",
       "      <th>0</th>\n",
       "      <td>White</td>\n",
       "      <td>Non-Hispanic</td>\n",
       "      <td>M</td>\n",
       "      <td>55</td>\n",
       "      <td>1965-04-22</td>\n",
       "      <td>M</td>\n",
       "      <td>58487</td>\n",
       "    </tr>\n",
       "    <tr>\n",
       "      <th>0</th>\n",
       "      <td>White</td>\n",
       "      <td>Non-Hispanic</td>\n",
       "      <td>M</td>\n",
       "      <td>55</td>\n",
       "      <td>1965-04-22</td>\n",
       "      <td>M</td>\n",
       "      <td>10839</td>\n",
       "    </tr>\n",
       "    <tr>\n",
       "      <th>0</th>\n",
       "      <td>White</td>\n",
       "      <td>Non-Hispanic</td>\n",
       "      <td>M</td>\n",
       "      <td>55</td>\n",
       "      <td>1965-04-22</td>\n",
       "      <td>M</td>\n",
       "      <td>69298</td>\n",
       "    </tr>\n",
       "    <tr>\n",
       "      <th>0</th>\n",
       "      <td>White</td>\n",
       "      <td>Non-Hispanic</td>\n",
       "      <td>M</td>\n",
       "      <td>55</td>\n",
       "      <td>1965-04-22</td>\n",
       "      <td>M</td>\n",
       "      <td>34577</td>\n",
       "    </tr>\n",
       "    <tr>\n",
       "      <th>0</th>\n",
       "      <td>White</td>\n",
       "      <td>Non-Hispanic</td>\n",
       "      <td>M</td>\n",
       "      <td>55</td>\n",
       "      <td>1965-04-22</td>\n",
       "      <td>M</td>\n",
       "      <td>18152</td>\n",
       "    </tr>\n",
       "    <tr>\n",
       "      <th>0</th>\n",
       "      <td>White</td>\n",
       "      <td>Non-Hispanic</td>\n",
       "      <td>M</td>\n",
       "      <td>55</td>\n",
       "      <td>1965-04-22</td>\n",
       "      <td>M</td>\n",
       "      <td>52028</td>\n",
       "    </tr>\n",
       "    <tr>\n",
       "      <th>0</th>\n",
       "      <td>White</td>\n",
       "      <td>Non-Hispanic</td>\n",
       "      <td>M</td>\n",
       "      <td>55</td>\n",
       "      <td>1965-04-22</td>\n",
       "      <td>M</td>\n",
       "      <td>70073</td>\n",
       "    </tr>\n",
       "    <tr>\n",
       "      <th>0</th>\n",
       "      <td>White</td>\n",
       "      <td>Non-Hispanic</td>\n",
       "      <td>M</td>\n",
       "      <td>55</td>\n",
       "      <td>1965-04-22</td>\n",
       "      <td>M</td>\n",
       "      <td>88690</td>\n",
       "    </tr>\n",
       "    <tr>\n",
       "      <th>0</th>\n",
       "      <td>White</td>\n",
       "      <td>Non-Hispanic</td>\n",
       "      <td>M</td>\n",
       "      <td>55</td>\n",
       "      <td>1965-04-22</td>\n",
       "      <td>M</td>\n",
       "      <td>2389</td>\n",
       "    </tr>\n",
       "    <tr>\n",
       "      <th>0</th>\n",
       "      <td>White</td>\n",
       "      <td>Non-Hispanic</td>\n",
       "      <td>M</td>\n",
       "      <td>55</td>\n",
       "      <td>1965-04-22</td>\n",
       "      <td>M</td>\n",
       "      <td>79868</td>\n",
       "    </tr>\n",
       "    <tr>\n",
       "      <th>0</th>\n",
       "      <td>White</td>\n",
       "      <td>Non-Hispanic</td>\n",
       "      <td>M</td>\n",
       "      <td>55</td>\n",
       "      <td>1965-04-22</td>\n",
       "      <td>M</td>\n",
       "      <td>89807</td>\n",
       "    </tr>\n",
       "    <tr>\n",
       "      <th>0</th>\n",
       "      <td>White</td>\n",
       "      <td>Non-Hispanic</td>\n",
       "      <td>M</td>\n",
       "      <td>55</td>\n",
       "      <td>1965-04-22</td>\n",
       "      <td>M</td>\n",
       "      <td>46819</td>\n",
       "    </tr>\n",
       "    <tr>\n",
       "      <th>0</th>\n",
       "      <td>White</td>\n",
       "      <td>Non-Hispanic</td>\n",
       "      <td>M</td>\n",
       "      <td>55</td>\n",
       "      <td>1965-04-22</td>\n",
       "      <td>M</td>\n",
       "      <td>6445</td>\n",
       "    </tr>\n",
       "    <tr>\n",
       "      <th>0</th>\n",
       "      <td>White</td>\n",
       "      <td>Non-Hispanic</td>\n",
       "      <td>M</td>\n",
       "      <td>55</td>\n",
       "      <td>1965-04-22</td>\n",
       "      <td>M</td>\n",
       "      <td>47364</td>\n",
       "    </tr>\n",
       "    <tr>\n",
       "      <th>0</th>\n",
       "      <td>White</td>\n",
       "      <td>Non-Hispanic</td>\n",
       "      <td>M</td>\n",
       "      <td>55</td>\n",
       "      <td>1965-04-22</td>\n",
       "      <td>M</td>\n",
       "      <td>29623</td>\n",
       "    </tr>\n",
       "  </tbody>\n",
       "</table>\n",
       "</div>"
      ],
      "text/plain": [
       "0                   Race                Ethnicity           Gender  \\\n",
       "0                  White             Non-Hispanic                M   \n",
       "0                  White             Non-Hispanic                M   \n",
       "0                  White             Non-Hispanic                M   \n",
       "0                  White             Non-Hispanic                M   \n",
       "0                  White             Non-Hispanic                M   \n",
       "0                  White             Non-Hispanic                M   \n",
       "0                  White             Non-Hispanic                M   \n",
       "0                  White             Non-Hispanic                M   \n",
       "0                  White             Non-Hispanic                M   \n",
       "0                  White             Non-Hispanic                M   \n",
       "0                  White             Non-Hispanic                M   \n",
       "0                  White             Non-Hispanic                M   \n",
       "0                  White             Non-Hispanic                M   \n",
       "0                  White             Non-Hispanic                M   \n",
       "0                  White             Non-Hispanic                M   \n",
       "0                  White             Non-Hispanic                M   \n",
       "0                  White             Non-Hispanic                M   \n",
       "0                  White             Non-Hispanic                M   \n",
       "0                  White             Non-Hispanic                M   \n",
       "0                  White             Non-Hispanic                M   \n",
       "0                  White             Non-Hispanic                M   \n",
       "0                  White             Non-Hispanic                M   \n",
       "0                  White             Non-Hispanic                M   \n",
       "\n",
       "0                  Age            Birth Date Marital Status     id  \n",
       "0                   55            1965-04-22              M  16808  \n",
       "0                   55            1965-04-22              M  20351  \n",
       "0                   55            1965-04-22              M  66538  \n",
       "0                   55            1965-04-22              M  26792  \n",
       "0                   55            1965-04-22              M  83536  \n",
       "0                   55            1965-04-22              M  43864  \n",
       "0                   55            1965-04-22              M  55683  \n",
       "0                   55            1965-04-22              M  63030  \n",
       "0                   55            1965-04-22              M  58487  \n",
       "0                   55            1965-04-22              M  10839  \n",
       "0                   55            1965-04-22              M  69298  \n",
       "0                   55            1965-04-22              M  34577  \n",
       "0                   55            1965-04-22              M  18152  \n",
       "0                   55            1965-04-22              M  52028  \n",
       "0                   55            1965-04-22              M  70073  \n",
       "0                   55            1965-04-22              M  88690  \n",
       "0                   55            1965-04-22              M   2389  \n",
       "0                   55            1965-04-22              M  79868  \n",
       "0                   55            1965-04-22              M  89807  \n",
       "0                   55            1965-04-22              M  46819  \n",
       "0                   55            1965-04-22              M   6445  \n",
       "0                   55            1965-04-22              M  47364  \n",
       "0                   55            1965-04-22              M  29623  "
      ]
     },
     "execution_count": 584,
     "metadata": {},
     "output_type": "execute_result"
    }
   ],
   "source": [
    "person_df"
   ]
  },
  {
   "cell_type": "code",
   "execution_count": 582,
   "id": "bf22fe82",
   "metadata": {},
   "outputs": [
    {
     "ename": "AttributeError",
     "evalue": "Can only use .dt accessor with datetimelike values",
     "output_type": "error",
     "traceback": [
      "\u001b[1;31m---------------------------------------------------------------------------\u001b[0m",
      "\u001b[1;31mAttributeError\u001b[0m                            Traceback (most recent call last)",
      "\u001b[1;32m~\\AppData\\Local\\Temp/ipykernel_5052/1508834550.py\u001b[0m in \u001b[0;36m<module>\u001b[1;34m\u001b[0m\n\u001b[1;32m----> 1\u001b[1;33m \u001b[0mperson_df\u001b[0m\u001b[1;33m[\u001b[0m\u001b[1;34m'Birth Date'\u001b[0m\u001b[1;33m]\u001b[0m\u001b[1;33m.\u001b[0m\u001b[0mdt\u001b[0m\u001b[1;33m.\u001b[0m\u001b[0myear\u001b[0m\u001b[1;33m\u001b[0m\u001b[1;33m\u001b[0m\u001b[0m\n\u001b[0m",
      "\u001b[1;32m~\\Anaconda3\\lib\\site-packages\\pandas\\core\\generic.py\u001b[0m in \u001b[0;36m__getattr__\u001b[1;34m(self, name)\u001b[0m\n\u001b[0;32m   5485\u001b[0m         ):\n\u001b[0;32m   5486\u001b[0m             \u001b[1;32mreturn\u001b[0m \u001b[0mself\u001b[0m\u001b[1;33m[\u001b[0m\u001b[0mname\u001b[0m\u001b[1;33m]\u001b[0m\u001b[1;33m\u001b[0m\u001b[1;33m\u001b[0m\u001b[0m\n\u001b[1;32m-> 5487\u001b[1;33m         \u001b[1;32mreturn\u001b[0m \u001b[0mobject\u001b[0m\u001b[1;33m.\u001b[0m\u001b[0m__getattribute__\u001b[0m\u001b[1;33m(\u001b[0m\u001b[0mself\u001b[0m\u001b[1;33m,\u001b[0m \u001b[0mname\u001b[0m\u001b[1;33m)\u001b[0m\u001b[1;33m\u001b[0m\u001b[1;33m\u001b[0m\u001b[0m\n\u001b[0m\u001b[0;32m   5488\u001b[0m \u001b[1;33m\u001b[0m\u001b[0m\n\u001b[0;32m   5489\u001b[0m     \u001b[1;32mdef\u001b[0m \u001b[0m__setattr__\u001b[0m\u001b[1;33m(\u001b[0m\u001b[0mself\u001b[0m\u001b[1;33m,\u001b[0m \u001b[0mname\u001b[0m\u001b[1;33m:\u001b[0m \u001b[0mstr\u001b[0m\u001b[1;33m,\u001b[0m \u001b[0mvalue\u001b[0m\u001b[1;33m)\u001b[0m \u001b[1;33m->\u001b[0m \u001b[1;32mNone\u001b[0m\u001b[1;33m:\u001b[0m\u001b[1;33m\u001b[0m\u001b[1;33m\u001b[0m\u001b[0m\n",
      "\u001b[1;32m~\\Anaconda3\\lib\\site-packages\\pandas\\core\\accessor.py\u001b[0m in \u001b[0;36m__get__\u001b[1;34m(self, obj, cls)\u001b[0m\n\u001b[0;32m    179\u001b[0m             \u001b[1;31m# we're accessing the attribute of the class, i.e., Dataset.geo\u001b[0m\u001b[1;33m\u001b[0m\u001b[1;33m\u001b[0m\u001b[1;33m\u001b[0m\u001b[0m\n\u001b[0;32m    180\u001b[0m             \u001b[1;32mreturn\u001b[0m \u001b[0mself\u001b[0m\u001b[1;33m.\u001b[0m\u001b[0m_accessor\u001b[0m\u001b[1;33m\u001b[0m\u001b[1;33m\u001b[0m\u001b[0m\n\u001b[1;32m--> 181\u001b[1;33m         \u001b[0maccessor_obj\u001b[0m \u001b[1;33m=\u001b[0m \u001b[0mself\u001b[0m\u001b[1;33m.\u001b[0m\u001b[0m_accessor\u001b[0m\u001b[1;33m(\u001b[0m\u001b[0mobj\u001b[0m\u001b[1;33m)\u001b[0m\u001b[1;33m\u001b[0m\u001b[1;33m\u001b[0m\u001b[0m\n\u001b[0m\u001b[0;32m    182\u001b[0m         \u001b[1;31m# Replace the property with the accessor object. Inspired by:\u001b[0m\u001b[1;33m\u001b[0m\u001b[1;33m\u001b[0m\u001b[1;33m\u001b[0m\u001b[0m\n\u001b[0;32m    183\u001b[0m         \u001b[1;31m# https://www.pydanny.com/cached-property.html\u001b[0m\u001b[1;33m\u001b[0m\u001b[1;33m\u001b[0m\u001b[1;33m\u001b[0m\u001b[0m\n",
      "\u001b[1;32m~\\Anaconda3\\lib\\site-packages\\pandas\\core\\indexes\\accessors.py\u001b[0m in \u001b[0;36m__new__\u001b[1;34m(cls, data)\u001b[0m\n\u001b[0;32m    504\u001b[0m             \u001b[1;32mreturn\u001b[0m \u001b[0mPeriodProperties\u001b[0m\u001b[1;33m(\u001b[0m\u001b[0mdata\u001b[0m\u001b[1;33m,\u001b[0m \u001b[0morig\u001b[0m\u001b[1;33m)\u001b[0m\u001b[1;33m\u001b[0m\u001b[1;33m\u001b[0m\u001b[0m\n\u001b[0;32m    505\u001b[0m \u001b[1;33m\u001b[0m\u001b[0m\n\u001b[1;32m--> 506\u001b[1;33m         \u001b[1;32mraise\u001b[0m \u001b[0mAttributeError\u001b[0m\u001b[1;33m(\u001b[0m\u001b[1;34m\"Can only use .dt accessor with datetimelike values\"\u001b[0m\u001b[1;33m)\u001b[0m\u001b[1;33m\u001b[0m\u001b[1;33m\u001b[0m\u001b[0m\n\u001b[0m",
      "\u001b[1;31mAttributeError\u001b[0m: Can only use .dt accessor with datetimelike values"
     ]
    }
   ],
   "source": [
    "person_df['Birth Date'].dt.year"
   ]
  },
  {
   "cell_type": "markdown",
   "id": "f0612357",
   "metadata": {},
   "source": [
    "### Table 생성"
   ]
  },
  {
   "cell_type": "code",
   "execution_count": 87,
   "id": "b55d3da4",
   "metadata": {},
   "outputs": [],
   "source": [
    "db = psycopg2.connect(host='49.50.167.136', dbname='synthea_1000',user='walker102',password='forcebewithyou',port=5432)\n",
    "cursor  = db.cursor()\n",
    "cursor.execute(\"CREATE TABLE walker102.person (person_id bigint, year_of_birth integer, month_of_birth integer, day_of_birth integer, death_date timestamp, gender_value varchar(50), race_value varchar(50), ethnicity_value varchar(50));\") \n",
    "cursor.execute(\"CREATE TABLE walker102.visit_occurrence (visit_occurrence_id bigint, person_id bigint, visit_start_date date, care_site_nm text, visit_type_value varchar(50));\")\n",
    "cursor.execute(\"CREATE TABLE walker102.drug_exposure (drug_exposure_id bigint, person_id bigint, drug_exposure_start_date date, drug_value text, route_value varchar(50), dose_value varchar(50), unit_value varchar(50), visit_occurrence_id bigint)\")\n",
    "cursor.execute(\"CREATE TABLE walker102.condition_occurrence (condition_occurrence_id bigint, person_id bigint, condition_start_date date, condition_value text, visit_occurrence_id bigint)\")"
   ]
  },
  {
   "cell_type": "code",
   "execution_count": 499,
   "id": "ee8a47d0",
   "metadata": {},
   "outputs": [],
   "source": [
    "cols = \"`,`\".join([str(i) for i in person_df.columns.tolist()])"
   ]
  },
  {
   "cell_type": "code",
   "execution_count": 504,
   "id": "60aea7e9",
   "metadata": {},
   "outputs": [
    {
     "ename": "SyntaxError",
     "evalue": "syntax error at end of input\nLINE 1: INSERT INTO person (cols)\n                                 ^\n",
     "output_type": "error",
     "traceback": [
      "\u001b[1;31m---------------------------------------------------------------------------\u001b[0m",
      "\u001b[1;31mSyntaxError\u001b[0m                               Traceback (most recent call last)",
      "\u001b[1;32m~\\AppData\\Local\\Temp/ipykernel_5052/2229263785.py\u001b[0m in \u001b[0;36m<module>\u001b[1;34m\u001b[0m\n\u001b[1;32m----> 1\u001b[1;33m \u001b[0mcursor\u001b[0m\u001b[1;33m.\u001b[0m\u001b[0mexecute\u001b[0m\u001b[1;33m(\u001b[0m\u001b[1;34m\"INSERT INTO person (cols)\"\u001b[0m\u001b[1;33m)\u001b[0m\u001b[1;33m\u001b[0m\u001b[1;33m\u001b[0m\u001b[0m\n\u001b[0m",
      "\u001b[1;31mSyntaxError\u001b[0m: syntax error at end of input\nLINE 1: INSERT INTO person (cols)\n                                 ^\n"
     ]
    }
   ],
   "source": [
    "cursor.execute(\"INSERT INTO person (cols) VALUES (%s,%s,%s,%s,%s,%s,%s,%s);\" % )"
   ]
  },
  {
   "cell_type": "markdown",
   "id": "1816d62a",
   "metadata": {},
   "source": [
    "- cursor.execute(\"INSERT INTO test (person_id,year_of_birth,month_of_birth,day_of_birth,death_date,gender_value,race_value,ethnicity_value) VALUES (1,1,1,1,'2020-03-04 00:00:00','1','1','1');\")"
   ]
  },
  {
   "cell_type": "code",
   "execution_count": 82,
   "id": "2439d771",
   "metadata": {},
   "outputs": [],
   "source": [
    "db.commit()"
   ]
  },
  {
   "cell_type": "code",
   "execution_count": 76,
   "id": "6a013d11",
   "metadata": {},
   "outputs": [],
   "source": [
    "cursor.execute(\"select * from test\")"
   ]
  },
  {
   "cell_type": "code",
   "execution_count": 77,
   "id": "9a3e6dde",
   "metadata": {},
   "outputs": [],
   "source": [
    "test = cursor.fetchall()"
   ]
  },
  {
   "cell_type": "code",
   "execution_count": 78,
   "id": "b50ec9cd",
   "metadata": {},
   "outputs": [
    {
     "data": {
      "text/plain": [
       "[(1, 1, 1, 1, datetime.datetime(2020, 3, 4, 0, 0), '1', '1', '1')]"
      ]
     },
     "execution_count": 78,
     "metadata": {},
     "output_type": "execute_result"
    }
   ],
   "source": [
    "test"
   ]
  },
  {
   "cell_type": "code",
   "execution_count": null,
   "id": "44b84504",
   "metadata": {},
   "outputs": [],
   "source": []
  },
  {
   "cell_type": "code",
   "execution_count": null,
   "id": "bc7ea03d",
   "metadata": {},
   "outputs": [],
   "source": []
  }
 ],
 "metadata": {
  "kernelspec": {
   "display_name": "Python 3 (ipykernel)",
   "language": "python",
   "name": "python3"
  },
  "language_info": {
   "codemirror_mode": {
    "name": "ipython",
    "version": 3
   },
   "file_extension": ".py",
   "mimetype": "text/x-python",
   "name": "python",
   "nbconvert_exporter": "python",
   "pygments_lexer": "ipython3",
   "version": "3.7.11"
  }
 },
 "nbformat": 4,
 "nbformat_minor": 5
}
